{
 "cells": [
  {
   "attachments": {},
   "cell_type": "markdown",
   "metadata": {},
   "source": [
    "Created by Finn Buchrieser, 11846398"
   ]
  },
  {
   "cell_type": "code",
   "execution_count": 1,
   "metadata": {},
   "outputs": [],
   "source": [
    "# The following script can be used to download financial Data\n",
    "# uing the Yahoo finance API, in our case it was used to obtain\n",
    "# data from the three tickers: SPY, GME, and XWD.TO (MSCI_World).\n",
    "\n",
    "from yahoo_fin.stock_info import get_data\n",
    "import pandas as pd"
   ]
  },
  {
   "cell_type": "code",
   "execution_count": 2,
   "metadata": {},
   "outputs": [],
   "source": [
    "# The data for each ticker is individually downloaded\n",
    "# using the get data function of the yahoo fin package.\n",
    "\n",
    "spy = get_data(\"SPY\", start_date = \"01/01/2020\",\n",
    "               end_date = \"12/31/2022\",\n",
    "               index_as_date = True,\n",
    "               interval = \"1d\")[\"close\"]"
   ]
  },
  {
   "cell_type": "code",
   "execution_count": 3,
   "metadata": {},
   "outputs": [],
   "source": [
    "gme = get_data(\"GME\", start_date = \"01/01/2020\",\n",
    "               end_date = \"12/31/2022\",\n",
    "               index_as_date = True,\n",
    "               interval = \"1d\")[\"close\"]"
   ]
  },
  {
   "cell_type": "code",
   "execution_count": 4,
   "metadata": {},
   "outputs": [],
   "source": [
    "msci_world = get_data(\"XWD.TO\", start_date = \"01/01/2020\",\n",
    "                      end_date = \"12/31/2022\",\n",
    "                      index_as_date = True,\n",
    "                      interval = \"1d\")[\"close\"]"
   ]
  },
  {
   "cell_type": "code",
   "execution_count": 5,
   "metadata": {},
   "outputs": [],
   "source": [
    "# A dataframe is created for each ticker\n",
    "\n",
    "finance_data = pd.DataFrame(columns = [\"Value\", \"Date\", \"Symbol\"])\n",
    "finance_data_2 = pd.DataFrame(columns = [\"Value\", \"Date\", \"Symbol\"])\n",
    "finance_data_3 = pd.DataFrame(columns = [\"Value\", \"Date\", \"Symbol\"])"
   ]
  },
  {
   "cell_type": "code",
   "execution_count": 8,
   "metadata": {},
   "outputs": [],
   "source": [
    "# Each individual dataframe is filled with\n",
    "# the value of the stock/indice, the date of this value\n",
    "# and the ticker. Also the date is removed form the index\n",
    "\n",
    "finance_data[\"Value\"] = gme\n",
    "finance_data[\"Date\"] = gme.index\n",
    "finance_data[\"Symbol\"] = \"GME\"\n",
    "finance_data.reset_index(inplace = True)\n",
    "finance_data.drop(labels = \"index\", axis = 1, inplace = True)"
   ]
  },
  {
   "cell_type": "code",
   "execution_count": 9,
   "metadata": {},
   "outputs": [],
   "source": [
    "finance_data_2[\"Value\"] = spy\n",
    "finance_data_2[\"Date\"] = spy.index\n",
    "finance_data_2[\"Symbol\"] = \"SPY\"\n",
    "finance_data_2.reset_index(inplace=True)\n",
    "finance_data_2.drop(labels=\"index\", axis = 1, inplace=True)"
   ]
  },
  {
   "cell_type": "code",
   "execution_count": 10,
   "metadata": {},
   "outputs": [],
   "source": [
    "finance_data_3[\"Value\"] = msci_world\n",
    "finance_data_3[\"Date\"] = msci_world.index\n",
    "finance_data_3[\"Symbol\"] = \"MSCI_WORLD\"\n",
    "finance_data_3.reset_index(inplace = True)\n",
    "finance_data_3.drop(labels = \"index\", axis = 1, inplace=True)"
   ]
  },
  {
   "cell_type": "code",
   "execution_count": 11,
   "metadata": {},
   "outputs": [],
   "source": [
    "# All three datasets are combiend\n",
    "\n",
    "df_finance = pd.concat([finance_data, finance_data_2, finance_data_3])"
   ]
  },
  {
   "cell_type": "code",
   "execution_count": 13,
   "metadata": {},
   "outputs": [],
   "source": [
    "# The datasets are written out as a csv file\n",
    "\n",
    "df_finance.to_csv(r\"C:\\Users\\Finn\\Desktop\\CSS_Project\"\n",
    "                  r\"\\Reddit_Posts\\Finance_Data_test.csv\")"
   ]
  }
 ],
 "metadata": {
  "kernelspec": {
   "display_name": "Python 3",
   "language": "python",
   "name": "python3"
  },
  "language_info": {
   "codemirror_mode": {
    "name": "ipython",
    "version": 3
   },
   "file_extension": ".py",
   "mimetype": "text/x-python",
   "name": "python",
   "nbconvert_exporter": "python",
   "pygments_lexer": "ipython3",
   "version": "3.11.2"
  },
  "orig_nbformat": 4,
  "vscode": {
   "interpreter": {
    "hash": "7c9e49ae4375f933fe0d655a1355df9218316e054c1c063a8814bcedabbb5d08"
   }
  }
 },
 "nbformat": 4,
 "nbformat_minor": 2
}
