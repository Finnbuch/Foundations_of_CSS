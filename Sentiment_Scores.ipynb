{
 "cells": [
  {
   "attachments": {},
   "cell_type": "markdown",
   "metadata": {},
   "source": [
    "Created by Finn Buchrieser, 11846398"
   ]
  },
  {
   "cell_type": "code",
   "execution_count": null,
   "metadata": {},
   "outputs": [],
   "source": [
    "# In the folllowing script, Sentitment scores are \n",
    "# calculated for each of the preprocessed comments\n",
    "\n",
    "from vaderSentiment.vaderSentiment import SentimentIntensityAnalyzer\n",
    "import pandas as pd"
   ]
  },
  {
   "cell_type": "code",
   "execution_count": null,
   "metadata": {},
   "outputs": [],
   "source": [
    "# reading in comments from the previously created csv file\n",
    "\n",
    "comments = pd.read_csv(r\"C:\\Users\\Finn\\Desktop\\CSS_Project\"\n",
    "                       r\"\\Reddit_Posts\\preprocessed_comments.csv\")"
   ]
  },
  {
   "cell_type": "code",
   "execution_count": null,
   "metadata": {},
   "outputs": [],
   "source": [
    "# initiating the SentimentIntensityAnalyzer object in\n",
    "# order to calculate sentiment scores for all comments\n",
    "\n",
    "SIA = SentimentIntensityAnalyzer()"
   ]
  },
  {
   "cell_type": "code",
   "execution_count": null,
   "metadata": {},
   "outputs": [],
   "source": [
    "# looping trough each row in the column \"body\" where the text is stored\n",
    "# and calculating sentiment values\n",
    "\n",
    "comments[\"sentiment\"] = comments[\"cleaned_text\"].apply(lambda x: SIA.polarity_scores(x))"
   ]
  },
  {
   "cell_type": "code",
   "execution_count": null,
   "metadata": {},
   "outputs": [],
   "source": [
    "# saving comments and sentiment scores to a csv file\n",
    "\n",
    "comments.to_csv(r\"C:\\Users\\Finn\\Desktop\\CSS_Project\"\n",
    "                r\"\\Reddit_Posts\\sentiment_scores.csv\")"
   ]
  }
 ],
 "metadata": {
  "kernelspec": {
   "display_name": "Python 3",
   "language": "python",
   "name": "python3"
  },
  "language_info": {
   "name": "python",
   "version": "3.11.2"
  },
  "orig_nbformat": 4
 },
 "nbformat": 4,
 "nbformat_minor": 2
}
